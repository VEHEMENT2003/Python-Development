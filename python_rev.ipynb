{
  "nbformat": 4,
  "nbformat_minor": 0,
  "metadata": {
    "colab": {
      "provenance": [],
      "authorship_tag": "ABX9TyNxujmvIAEGTv3s6XipYrWZ",
      "include_colab_link": true
    },
    "kernelspec": {
      "name": "python3",
      "display_name": "Python 3"
    },
    "language_info": {
      "name": "python"
    }
  },
  "cells": [
    {
      "cell_type": "markdown",
      "metadata": {
        "id": "view-in-github",
        "colab_type": "text"
      },
      "source": [
        "<a href=\"https://colab.research.google.com/github/VEHEMENT2003/Python-Development/blob/main/python_rev.ipynb\" target=\"_parent\"><img src=\"https://colab.research.google.com/assets/colab-badge.svg\" alt=\"Open In Colab\"/></a>"
      ]
    },
    {
      "cell_type": "code",
      "execution_count": null,
      "metadata": {
        "colab": {
          "base_uri": "https://localhost:8080/"
        },
        "id": "grL2ZT9LgTB8",
        "outputId": "c8f5b487-b881-44f2-8560-694f7cc68cb8"
      },
      "outputs": [
        {
          "output_type": "stream",
          "name": "stdout",
          "text": [
            "Bye VRUSHABH\n",
            "Bye CHAITANYA\n",
            "Hello SOHAM\n",
            "Hello SHIVAM\n",
            "Bye ABHINAV\n"
          ]
        }
      ],
      "source": [
        "#TO GREET PARTICULAR NAME\n",
        "\n",
        "L = [\"VRUSHABH\",\"CHAITANYA\",\"SOHAM\",\"SHIVAM\",\"ABHINAV\"]\n",
        "\n",
        "for name in L:\n",
        "  if(name.startswith(\"S\")):\n",
        "    print(\"Hello \"+name)\n",
        "  else:\n",
        "    print(\"Bye \"+name )\n"
      ]
    },
    {
      "cell_type": "code",
      "source": [],
      "metadata": {
        "id": "Mle4bEfo5c75"
      },
      "execution_count": null,
      "outputs": []
    },
    {
      "cell_type": "code",
      "source": [
        "# print  table using while loop\n",
        "n = int(input(\"Enter the number: \"))\n",
        "i = 1\n",
        "\n",
        "while(i<11):\n",
        "  print(f\"{n}*{i} = {n*i}\")\n",
        "  i+=1"
      ],
      "metadata": {
        "colab": {
          "base_uri": "https://localhost:8080/"
        },
        "id": "6ZrLAhWXtBQJ",
        "outputId": "748b080d-c952-4c46-a2a0-f26934bf4683"
      },
      "execution_count": null,
      "outputs": [
        {
          "output_type": "stream",
          "name": "stdout",
          "text": [
            "Enter the number: 5\n",
            "5*1 = 5\n",
            "5*2 = 10\n",
            "5*3 = 15\n",
            "5*4 = 20\n",
            "5*5 = 25\n",
            "5*6 = 30\n",
            "5*7 = 35\n",
            "5*8 = 40\n",
            "5*9 = 45\n",
            "5*10 = 50\n"
          ]
        }
      ]
    },
    {
      "cell_type": "code",
      "source": [
        "#print number in prime or not\n",
        "\n",
        "n = int(input(\"Enter the number: \"))\n",
        "\n",
        "for i in range(2,n):\n",
        "  if(n%i==0):\n",
        "    print(\"it is not prime number\")\n",
        "    break\n",
        "\n",
        "  else:\n",
        "    print(\"it is prime number\")\n",
        "    break\n"
      ],
      "metadata": {
        "colab": {
          "base_uri": "https://localhost:8080/"
        },
        "id": "Tj_BXFDctjwV",
        "outputId": "4b8d39b3-833c-4061-c468-b06ec4eb4356"
      },
      "execution_count": null,
      "outputs": [
        {
          "output_type": "stream",
          "name": "stdout",
          "text": [
            "Enter the number: 6\n",
            "it is not prime number\n"
          ]
        }
      ]
    },
    {
      "cell_type": "code",
      "source": [
        "#to find sum of first natural numbers using while loop\n",
        "n = int(input(\"Enter the number: \"))\n",
        "\n",
        "i= 1\n",
        "sum = 0\n",
        "while(i<=n):\n",
        "  sum = sum + i\n",
        "  i+=1\n",
        "\n",
        "print(sum)"
      ],
      "metadata": {
        "colab": {
          "base_uri": "https://localhost:8080/"
        },
        "id": "r9yG_I5IxIA8",
        "outputId": "41e7876c-1def-4390-b4f7-5d6615e92085"
      },
      "execution_count": null,
      "outputs": [
        {
          "output_type": "stream",
          "name": "stdout",
          "text": [
            "Enter the number: 5\n",
            "15\n"
          ]
        }
      ]
    },
    {
      "cell_type": "code",
      "source": [
        "#write a factorial of a given number using for loop\n",
        "n = int(input(\"Enter the number: \"))\n",
        "\n",
        "fact = 1\n",
        "for i in range(1,n+1):\n",
        "  fact = fact*i\n",
        "\n",
        "print(f\"factorial {n} is {fact} \")"
      ],
      "metadata": {
        "colab": {
          "base_uri": "https://localhost:8080/"
        },
        "id": "5tPAW7U7ySVF",
        "outputId": "2325ef4a-3692-4768-cb94-10c91b8cd5ef"
      },
      "execution_count": null,
      "outputs": [
        {
          "output_type": "stream",
          "name": "stdout",
          "text": [
            "Enter the number: 5\n",
            "factorial 5 is 120 \n"
          ]
        }
      ]
    },
    {
      "cell_type": "code",
      "source": [
        "# print equilater trainlge by star pattern\n",
        "n = int(input(\"Enter the number: \"))\n",
        "\n",
        "for i in range(1,n+1):\n",
        "  print(\" \"*(n-i),end=\" \")\n",
        "  print(\"*\"*(2*i-1),end=\" \")\n",
        "  print(\" \")\n",
        "\n"
      ],
      "metadata": {
        "colab": {
          "base_uri": "https://localhost:8080/"
        },
        "id": "M6hCkkukzdaA",
        "outputId": "53d7fbfd-d9fd-4f7d-8281-9709dbf7e009"
      },
      "execution_count": null,
      "outputs": [
        {
          "output_type": "stream",
          "name": "stdout",
          "text": [
            "Enter the number: 5\n",
            "     *  \n",
            "    ***  \n",
            "   *****  \n",
            "  *******  \n",
            " *********  \n"
          ]
        }
      ]
    },
    {
      "cell_type": "code",
      "source": [
        "# to print rightangled trialgle\n",
        "n = int(input(\"enter no of rows\"))\n",
        "\n",
        "for i in range (1,n+1):\n",
        "  print(\"*\"*i, end=\"\")\n",
        "  print(\"\")\n"
      ],
      "metadata": {
        "colab": {
          "base_uri": "https://localhost:8080/"
        },
        "id": "NZEbamLtj6vC",
        "outputId": "9d3de9be-9579-4dc4-f9b4-ef2f05ef85e9"
      },
      "execution_count": null,
      "outputs": [
        {
          "output_type": "stream",
          "name": "stdout",
          "text": [
            "enter no of rows4\n",
            "*\n",
            "**\n",
            "***\n",
            "****\n"
          ]
        }
      ]
    },
    {
      "cell_type": "code",
      "source": [
        "#Print pgm to print square from star middle of square is blank\n",
        "n = int(input(\"Enter the number: \"))\n",
        "for i in range(1,n+1):\n",
        "  if (i==1 or i==n):\n",
        "    print(\"*\"* n, end=\"\")\n",
        "  else:\n",
        "    print(\"*\",end=\"\")\n",
        "    print(\" \"*(n-2),end=\"\")\n",
        "    print(\"*\",end=\"\")\n",
        "  print(\"\")\n",
        "\n",
        "\n"
      ],
      "metadata": {
        "colab": {
          "base_uri": "https://localhost:8080/"
        },
        "id": "2kDuKWGs2To_",
        "outputId": "a42d5ea3-eeb8-49d5-dde2-92299e9720cf"
      },
      "execution_count": null,
      "outputs": [
        {
          "output_type": "stream",
          "name": "stdout",
          "text": [
            "Enter the number: 3\n",
            "***\n",
            "* *\n",
            "***\n"
          ]
        }
      ]
    },
    {
      "cell_type": "code",
      "source": [
        "# Print a table in reverse order\n",
        "n = int(input(\"Enter the number: \"))\n",
        "\n",
        "for i in range(10,0,-1):          #(1,11)\n",
        "  print(f\"{n}*{i} = {n*i}\")    #print(f\"{n}*{11-i} = {n*(11-i)}\")"
      ],
      "metadata": {
        "colab": {
          "base_uri": "https://localhost:8080/"
        },
        "id": "sSN3rsdADFvk",
        "outputId": "359ea39c-0f3a-4fb8-c7ef-7e950adce431"
      },
      "execution_count": null,
      "outputs": [
        {
          "output_type": "stream",
          "name": "stdout",
          "text": [
            "Enter the number: 5\n",
            "5*10 = 50\n",
            "5*9 = 45\n",
            "5*8 = 40\n",
            "5*7 = 35\n",
            "5*6 = 30\n",
            "5*5 = 25\n",
            "5*4 = 20\n",
            "5*3 = 15\n",
            "5*2 = 10\n",
            "5*1 = 5\n"
          ]
        }
      ]
    },
    {
      "cell_type": "markdown",
      "source": [
        "Fuction\n",
        "it is group of statment performing a separate task\n"
      ],
      "metadata": {
        "id": "jwyYW0X4Ex8_"
      }
    },
    {
      "cell_type": "code",
      "source": [
        "# fuction\n",
        "# eg repetedlydoing this nor good practice so provide fuction\n",
        "'''\n",
        "a = 12\n",
        "b = 35\n",
        "c = 76\n",
        "\n",
        "average = (a+b+c)/3\n",
        "print(average)\n",
        "'''\n",
        "# defination /  define\n",
        "\n",
        " def avg():\n",
        "\n"
      ],
      "metadata": {
        "colab": {
          "base_uri": "https://localhost:8080/"
        },
        "id": "_x5XYNvKDgUm",
        "outputId": "a707c3af-8140-49ae-a7f0-d341109f6535"
      },
      "execution_count": null,
      "outputs": [
        {
          "output_type": "stream",
          "name": "stdout",
          "text": [
            "41.0\n"
          ]
        }
      ]
    },
    {
      "cell_type": "code",
      "source": [],
      "metadata": {
        "id": "IUp4hJki5eiI"
      },
      "execution_count": null,
      "outputs": []
    }
  ]
}